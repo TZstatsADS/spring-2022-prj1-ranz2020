{
 "cells": [
  {
   "cell_type": "markdown",
   "id": "6fe83236",
   "metadata": {},
   "source": [
    "# "
   ]
  },
  {
   "cell_type": "markdown",
   "id": "84990b6e",
   "metadata": {},
   "source": [
    "## Step 0: Library import and data preprocessing"
   ]
  },
  {
   "cell_type": "code",
   "execution_count": 132,
   "id": "dc7dd07b",
   "metadata": {},
   "outputs": [],
   "source": [
    "from nrclex import NRCLex\n",
    "import pandas as pd\n",
    "from sklearn.cluster import k_means\n",
    "import matplotlib.pyplot as plt\n",
    "import seaborn as sns\n",
    "import numpy as np\n",
    "from sklearn.decomposition import PCA\n",
    "from sklearn.metrics import silhouette_score, adjusted_rand_score\n",
    "from sklearn.pipeline import Pipeline\n",
    "from sklearn.preprocessing import LabelEncoder, MinMaxScaler\n",
    "from sklearn.datasets import make_blobs\n",
    "from sklearn.cluster import KMeans\n",
    "from sklearn.preprocessing import StandardScaler\n",
    "from matplotlib.pyplot import figure\n",
    "import warnings\n",
    "warnings.filterwarnings('ignore')"
   ]
  },
  {
   "cell_type": "markdown",
   "id": "bd80dfcc",
   "metadata": {},
   "source": [
    "Firstly, we import the data and examine its general information."
   ]
  },
  {
   "cell_type": "code",
   "execution_count": 2,
   "id": "8699f80b",
   "metadata": {},
   "outputs": [
    {
     "data": {
      "text/html": [
       "<div>\n",
       "<style scoped>\n",
       "    .dataframe tbody tr th:only-of-type {\n",
       "        vertical-align: middle;\n",
       "    }\n",
       "\n",
       "    .dataframe tbody tr th {\n",
       "        vertical-align: top;\n",
       "    }\n",
       "\n",
       "    .dataframe thead th {\n",
       "        text-align: right;\n",
       "    }\n",
       "</style>\n",
       "<table border=\"1\" class=\"dataframe\">\n",
       "  <thead>\n",
       "    <tr style=\"text-align: right;\">\n",
       "      <th></th>\n",
       "      <th>title</th>\n",
       "      <th>author</th>\n",
       "      <th>school</th>\n",
       "      <th>sentence_spacy</th>\n",
       "      <th>sentence_str</th>\n",
       "      <th>original_publication_date</th>\n",
       "      <th>corpus_edition_date</th>\n",
       "      <th>sentence_length</th>\n",
       "      <th>sentence_lowered</th>\n",
       "      <th>tokenized_txt</th>\n",
       "      <th>lemmatized_str</th>\n",
       "    </tr>\n",
       "  </thead>\n",
       "  <tbody>\n",
       "    <tr>\n",
       "      <th>0</th>\n",
       "      <td>Plato - Complete Works</td>\n",
       "      <td>Plato</td>\n",
       "      <td>plato</td>\n",
       "      <td>What's new, Socrates, to make you leave your ...</td>\n",
       "      <td>What's new, Socrates, to make you leave your ...</td>\n",
       "      <td>-350</td>\n",
       "      <td>1997</td>\n",
       "      <td>125</td>\n",
       "      <td>what's new, socrates, to make you leave your ...</td>\n",
       "      <td>['what', 'new', 'socrates', 'to', 'make', 'you...</td>\n",
       "      <td>what be new , Socrates , to make -PRON- lea...</td>\n",
       "    </tr>\n",
       "    <tr>\n",
       "      <th>1</th>\n",
       "      <td>Plato - Complete Works</td>\n",
       "      <td>Plato</td>\n",
       "      <td>plato</td>\n",
       "      <td>Surely you are not prosecuting anyone before t...</td>\n",
       "      <td>Surely you are not prosecuting anyone before t...</td>\n",
       "      <td>-350</td>\n",
       "      <td>1997</td>\n",
       "      <td>69</td>\n",
       "      <td>surely you are not prosecuting anyone before t...</td>\n",
       "      <td>['surely', 'you', 'are', 'not', 'prosecuting',...</td>\n",
       "      <td>surely -PRON- be not prosecute anyone before ...</td>\n",
       "    </tr>\n",
       "    <tr>\n",
       "      <th>2</th>\n",
       "      <td>Plato - Complete Works</td>\n",
       "      <td>Plato</td>\n",
       "      <td>plato</td>\n",
       "      <td>The Athenians do not call this a prosecution b...</td>\n",
       "      <td>The Athenians do not call this a prosecution b...</td>\n",
       "      <td>-350</td>\n",
       "      <td>1997</td>\n",
       "      <td>74</td>\n",
       "      <td>the athenians do not call this a prosecution b...</td>\n",
       "      <td>['the', 'athenians', 'do', 'not', 'call', 'thi...</td>\n",
       "      <td>the Athenians do not call this a prosecution ...</td>\n",
       "    </tr>\n",
       "    <tr>\n",
       "      <th>3</th>\n",
       "      <td>Plato - Complete Works</td>\n",
       "      <td>Plato</td>\n",
       "      <td>plato</td>\n",
       "      <td>What is this you say?</td>\n",
       "      <td>What is this you say?</td>\n",
       "      <td>-350</td>\n",
       "      <td>1997</td>\n",
       "      <td>21</td>\n",
       "      <td>what is this you say?</td>\n",
       "      <td>['what', 'is', 'this', 'you', 'say']</td>\n",
       "      <td>what be this -PRON- say ?</td>\n",
       "    </tr>\n",
       "    <tr>\n",
       "      <th>4</th>\n",
       "      <td>Plato - Complete Works</td>\n",
       "      <td>Plato</td>\n",
       "      <td>plato</td>\n",
       "      <td>Someone must have indicted you, for you are no...</td>\n",
       "      <td>Someone must have indicted you, for you are no...</td>\n",
       "      <td>-350</td>\n",
       "      <td>1997</td>\n",
       "      <td>101</td>\n",
       "      <td>someone must have indicted you, for you are no...</td>\n",
       "      <td>['someone', 'must', 'have', 'indicted', 'you',...</td>\n",
       "      <td>someone must have indict -PRON- , for -PRON- ...</td>\n",
       "    </tr>\n",
       "  </tbody>\n",
       "</table>\n",
       "</div>"
      ],
      "text/plain": [
       "                    title author school  \\\n",
       "0  Plato - Complete Works  Plato  plato   \n",
       "1  Plato - Complete Works  Plato  plato   \n",
       "2  Plato - Complete Works  Plato  plato   \n",
       "3  Plato - Complete Works  Plato  plato   \n",
       "4  Plato - Complete Works  Plato  plato   \n",
       "\n",
       "                                      sentence_spacy  \\\n",
       "0   What's new, Socrates, to make you leave your ...   \n",
       "1  Surely you are not prosecuting anyone before t...   \n",
       "2  The Athenians do not call this a prosecution b...   \n",
       "3                              What is this you say?   \n",
       "4  Someone must have indicted you, for you are no...   \n",
       "\n",
       "                                        sentence_str  \\\n",
       "0   What's new, Socrates, to make you leave your ...   \n",
       "1  Surely you are not prosecuting anyone before t...   \n",
       "2  The Athenians do not call this a prosecution b...   \n",
       "3                              What is this you say?   \n",
       "4  Someone must have indicted you, for you are no...   \n",
       "\n",
       "   original_publication_date  corpus_edition_date  sentence_length  \\\n",
       "0                       -350                 1997              125   \n",
       "1                       -350                 1997               69   \n",
       "2                       -350                 1997               74   \n",
       "3                       -350                 1997               21   \n",
       "4                       -350                 1997              101   \n",
       "\n",
       "                                    sentence_lowered  \\\n",
       "0   what's new, socrates, to make you leave your ...   \n",
       "1  surely you are not prosecuting anyone before t...   \n",
       "2  the athenians do not call this a prosecution b...   \n",
       "3                              what is this you say?   \n",
       "4  someone must have indicted you, for you are no...   \n",
       "\n",
       "                                       tokenized_txt  \\\n",
       "0  ['what', 'new', 'socrates', 'to', 'make', 'you...   \n",
       "1  ['surely', 'you', 'are', 'not', 'prosecuting',...   \n",
       "2  ['the', 'athenians', 'do', 'not', 'call', 'thi...   \n",
       "3               ['what', 'is', 'this', 'you', 'say']   \n",
       "4  ['someone', 'must', 'have', 'indicted', 'you',...   \n",
       "\n",
       "                                      lemmatized_str  \n",
       "0     what be new , Socrates , to make -PRON- lea...  \n",
       "1   surely -PRON- be not prosecute anyone before ...  \n",
       "2   the Athenians do not call this a prosecution ...  \n",
       "3                          what be this -PRON- say ?  \n",
       "4   someone must have indict -PRON- , for -PRON- ...  "
      ]
     },
     "execution_count": 2,
     "metadata": {},
     "output_type": "execute_result"
    }
   ],
   "source": [
    "df = pd.read_csv(\"philosophy_data.csv\")\n",
    "df['n_tokens'] = list(map(len,map(eval,df.tokenized_txt)))\n",
    "df.head()"
   ]
  },
  {
   "cell_type": "markdown",
   "id": "4274ddce",
   "metadata": {},
   "source": [
    "We could find that the dataset is quite clean (with no missing values), and contains information of 59 work titles, 36 different authors and 13 schools."
   ]
  },
  {
   "cell_type": "code",
   "execution_count": 4,
   "id": "9e209b38",
   "metadata": {
    "scrolled": true
   },
   "outputs": [
    {
     "data": {
      "text/plain": [
       "0"
      ]
     },
     "execution_count": 4,
     "metadata": {},
     "output_type": "execute_result"
    }
   ],
   "source": [
    "df.isna().sum().sum()"
   ]
  },
  {
   "cell_type": "code",
   "execution_count": 5,
   "id": "c651085a",
   "metadata": {
    "scrolled": true
   },
   "outputs": [
    {
     "data": {
      "text/plain": [
       "(59, 36, 13)"
      ]
     },
     "execution_count": 5,
     "metadata": {},
     "output_type": "execute_result"
    }
   ],
   "source": [
    "# total number of works, total number of authors, and total number of schools\n",
    "df.title.value_counts().shape[0], df.author.value_counts().shape[0], df.school.value_counts().shape[0]"
   ]
  },
  {
   "cell_type": "markdown",
   "id": "c4afdf7e",
   "metadata": {},
   "source": [
    "Next, we group the dataset by the schools and examine the total length distribution. From the barplot, we could see a relatively smooth distribution in the total sentence length, 11 out of 13 schools have more than 2e6 total words, and only stoicism has less than 1e6 total words, so by normalizing we are supposed to have a balanced dataset and feature distributions in most schools."
   ]
  },
  {
   "cell_type": "code",
   "execution_count": 129,
   "id": "69d4395a",
   "metadata": {},
   "outputs": [
    {
     "data": {
      "image/png": "[encoded data removed]",
      "text/plain": [
       "<Figure size 1200x480 with 1 Axes>"
      ]
     },
     "metadata": {},
     "output_type": "display_data"
    }
   ],
   "source": [
    "author_length = df.groupby(\"school\").sum(\"sentence_length\").sort_values(by=['sentence_length'], ascending = False)\n",
    "author_length[\"school\"] = list(author_length.index)\n",
    "figure(figsize=(15, 6), dpi=80)\n",
    "sns.barplot(data = author_length, x = \"school\", y = \"sentence_length\")\n",
    "plt.xticks(rotation=45)\n",
    "plt.ylabel(\"Sentence Length\")\n",
    "plt.title(\"Distribution of total sentence length with regard to school\")\n",
    "plt.show()"
   ]
  },
  {
   "cell_type": "markdown",
   "id": "a54ac35a",
   "metadata": {},
   "source": [
    "Next, we import sentiment vectors by using the NRC lexicon and encode each sentence with a sentiment object."
   ]
  },
  {
   "cell_type": "code",
   "execution_count": 7,
   "id": "8e131ea3",
   "metadata": {},
   "outputs": [
    {
     "name": "stdout",
     "output_type": "stream",
     "text": [
      "--- 103.42729187011719 seconds ---\n"
     ]
    }
   ],
   "source": [
    "import time\n",
    "start_time = time.time()\n",
    "senti_list = []\n",
    "for i in range(len(df.sentence_lowered)):\n",
    "    senti_list.append(NRCLex(df.sentence_lowered[i]))\n",
    "print(\"--- %s seconds ---\" % (time.time() - start_time))"
   ]
  },
  {
   "cell_type": "markdown",
   "id": "30d1a6ce",
   "metadata": {},
   "source": [
    "Using NRC lexicon, we assign each sentence a vector of sentiments, containing fear, anger, ancitipation, trust, suprise, sadness, disgust and joy. Also, the function computes the extent of positive and negative sentiments of each sentence. We sum up the sentiment measures within each sentence and store them separately in several lists, and then assign them to the original DataFrame."
   ]
  },
  {
   "cell_type": "code",
   "execution_count": 8,
   "id": "906cc05a",
   "metadata": {},
   "outputs": [],
   "source": [
    "senti_detail = [senti_list[i].affect_frequencies for i in range(len(senti_list))]"
   ]
  },
  {
   "cell_type": "code",
   "execution_count": 9,
   "id": "39fc4573",
   "metadata": {},
   "outputs": [],
   "source": [
    "fear = [senti_detail[i][\"fear\"] for i in range(len(senti_detail))]\n",
    "anger = [senti_detail[i][\"anger\"] for i in range(len(senti_detail))]\n",
    "anticip = [senti_detail[i][\"anticip\"] for i in range(len(senti_detail))]\n",
    "trust = [senti_detail[i][\"trust\"] for i in range(len(senti_detail))]\n",
    "surprise = [senti_detail[i][\"surprise\"] for i in range(len(senti_detail))]\n",
    "positive = [senti_detail[i][\"positive\"] for i in range(len(senti_detail))]\n",
    "negative = [senti_detail[i][\"negative\"] for i in range(len(senti_detail))]\n",
    "sadness = [senti_detail[i][\"sadness\"] for i in range(len(senti_detail))]\n",
    "disgust = [senti_detail[i][\"disgust\"] for i in range(len(senti_detail))]\n",
    "joy = [senti_detail[i][\"joy\"] for i in range(len(senti_detail))]"
   ]
  },
  {
   "cell_type": "code",
   "execution_count": 10,
   "id": "d1891947",
   "metadata": {},
   "outputs": [],
   "source": [
    "df[\"fear\"] = fear\n",
    "df[\"anger\"] = anger\n",
    "df[\"anticip\"] = anticip\n",
    "df[\"trust\"] = trust\n",
    "df[\"surprise\"] = surprise\n",
    "df[\"positive\"] = positive\n",
    "df[\"negative\"] = negative\n",
    "df[\"sadness\"] = sadness\n",
    "df[\"disgust\"] = disgust\n",
    "df[\"joy\"] = joy"
   ]
  },
  {
   "cell_type": "markdown",
   "id": "85083665",
   "metadata": {},
   "source": [
    "# Step 1: Sentiment Analysis of mutual interaction of schools"
   ]
  },
  {
   "cell_type": "markdown",
   "id": "e2dfec76",
   "metadata": {},
   "source": [
    "To study each schools' opinion on other schools, and how schools interact with each other, we extract the school list and compute mutual interaction (which involves both mentioning times and sentiments of mentioned sentences) between every possible pair."
   ]
  },
  {
   "cell_type": "code",
   "execution_count": 133,
   "id": "4c70931d",
   "metadata": {},
   "outputs": [],
   "source": [
    "school_list = list(df.school.value_counts().index)\n",
    "senti_types = [\"fear\",\"anger\",\"anticip\",\"trust\",\"surprise\",\"sadness\",\"disgust\",\"joy\"]\n",
    "school_group = df.groupby(\"school\").mean(senti_types)"
   ]
  },
  {
   "cell_type": "markdown",
   "id": "47551684",
   "metadata": {},
   "source": [
    "For each (school_1, school_2) pair, we calculate the total mentioning times and store the info into count_lists, and then sum up the total sentiment (by sentiment category) of all school_1's sentences that mention school_2 and store the info into sentiment_lists."
   ]
  },
  {
   "cell_type": "code",
   "execution_count": 78,
   "id": "04b35ab7",
   "metadata": {},
   "outputs": [],
   "source": [
    "count_lists = []\n",
    "sentiment_lists = []\n",
    "for school_1 in school_list:\n",
    "    count_list = []\n",
    "    sentiment_list = []\n",
    "    school_1_data = df[df.school == school_1].reset_index()\n",
    "    for school_2 in school_list:\n",
    "        count = 0\n",
    "        positive = 0\n",
    "        if school_2 == \"german_idealism\":\n",
    "            school_2 = \"idealism\"\n",
    "        for i in range(school_1_data.shape[0]):\n",
    "            if (school_1_data.sentence_lowered[i].find(school_2) != -1):\n",
    "                count += 1\n",
    "                if school_1_data.positive[i] > school_1_data.negative[i]:\n",
    "                    positive += school_1_data.positive[i]\n",
    "                elif school_1_data.positive[i] == school_1_data.negative[i]:\n",
    "                    positive += 0\n",
    "                else:\n",
    "                    positive -= school_1_data.negative[i]\n",
    "        count_list.append(count)\n",
    "        sentiment_list.append(positive)\n",
    "    count_lists.append(count_list)\n",
    "    sentiment_lists.append(sentiment_list)"
   ]
  },
  {
   "cell_type": "markdown",
   "id": "24fc223c",
   "metadata": {},
   "source": [
    "With well-organized lists of data, we convert them into dataframes and set appropriate labels."
   ]
  },
  {
   "cell_type": "code",
   "execution_count": 79,
   "id": "f80984d3",
   "metadata": {},
   "outputs": [],
   "source": [
    "mention_df = pd.DataFrame(count_lists)\n",
    "mention_df.columns = school_list\n",
    "mention_df.index = school_list\n",
    "mention_df['sum'] = mention_df.apply(sum, axis = 1)\n",
    "mention_df.loc['sum',:] = mention_df.apply(sum, axis = 0)"
   ]
  },
  {
   "cell_type": "code",
   "execution_count": 80,
   "id": "7142e1cb",
   "metadata": {},
   "outputs": [
    {
     "data": {
      "text/html": [
       "<div>\n",
       "<style scoped>\n",
       "    .dataframe tbody tr th:only-of-type {\n",
       "        vertical-align: middle;\n",
       "    }\n",
       "\n",
       "    .dataframe tbody tr th {\n",
       "        vertical-align: top;\n",
       "    }\n",
       "\n",
       "    .dataframe thead th {\n",
       "        text-align: right;\n",
       "    }\n",
       "</style>\n",
       "<table border=\"1\" class=\"dataframe\">\n",
       "  <thead>\n",
       "    <tr style=\"text-align: right;\">\n",
       "      <th></th>\n",
       "      <th>analytic</th>\n",
       "      <th>aristotle</th>\n",
       "      <th>german_idealism</th>\n",
       "      <th>plato</th>\n",
       "      <th>continental</th>\n",
       "      <th>phenomenology</th>\n",
       "      <th>rationalism</th>\n",
       "      <th>empiricism</th>\n",
       "      <th>feminism</th>\n",
       "      <th>capitalism</th>\n",
       "      <th>communism</th>\n",
       "      <th>nietzsche</th>\n",
       "      <th>stoicism</th>\n",
       "      <th>sum</th>\n",
       "    </tr>\n",
       "  </thead>\n",
       "  <tbody>\n",
       "    <tr>\n",
       "      <th>analytic</th>\n",
       "      <td>394.0</td>\n",
       "      <td>107.0</td>\n",
       "      <td>33.0</td>\n",
       "      <td>45.0</td>\n",
       "      <td>2.0</td>\n",
       "      <td>0.0</td>\n",
       "      <td>3.0</td>\n",
       "      <td>29.0</td>\n",
       "      <td>0.0</td>\n",
       "      <td>0.0</td>\n",
       "      <td>1.0</td>\n",
       "      <td>0.0</td>\n",
       "      <td>1.0</td>\n",
       "      <td>615.0</td>\n",
       "    </tr>\n",
       "    <tr>\n",
       "      <th>aristotle</th>\n",
       "      <td>27.0</td>\n",
       "      <td>0.0</td>\n",
       "      <td>0.0</td>\n",
       "      <td>74.0</td>\n",
       "      <td>0.0</td>\n",
       "      <td>0.0</td>\n",
       "      <td>0.0</td>\n",
       "      <td>0.0</td>\n",
       "      <td>0.0</td>\n",
       "      <td>0.0</td>\n",
       "      <td>1.0</td>\n",
       "      <td>0.0</td>\n",
       "      <td>0.0</td>\n",
       "      <td>102.0</td>\n",
       "    </tr>\n",
       "    <tr>\n",
       "      <th>german_idealism</th>\n",
       "      <td>260.0</td>\n",
       "      <td>36.0</td>\n",
       "      <td>110.0</td>\n",
       "      <td>58.0</td>\n",
       "      <td>0.0</td>\n",
       "      <td>26.0</td>\n",
       "      <td>10.0</td>\n",
       "      <td>28.0</td>\n",
       "      <td>0.0</td>\n",
       "      <td>0.0</td>\n",
       "      <td>0.0</td>\n",
       "      <td>0.0</td>\n",
       "      <td>13.0</td>\n",
       "      <td>541.0</td>\n",
       "    </tr>\n",
       "    <tr>\n",
       "      <th>plato</th>\n",
       "      <td>1.0</td>\n",
       "      <td>0.0</td>\n",
       "      <td>0.0</td>\n",
       "      <td>30.0</td>\n",
       "      <td>0.0</td>\n",
       "      <td>0.0</td>\n",
       "      <td>0.0</td>\n",
       "      <td>0.0</td>\n",
       "      <td>0.0</td>\n",
       "      <td>0.0</td>\n",
       "      <td>0.0</td>\n",
       "      <td>0.0</td>\n",
       "      <td>2.0</td>\n",
       "      <td>33.0</td>\n",
       "    </tr>\n",
       "    <tr>\n",
       "      <th>continental</th>\n",
       "      <td>186.0</td>\n",
       "      <td>37.0</td>\n",
       "      <td>15.0</td>\n",
       "      <td>163.0</td>\n",
       "      <td>1.0</td>\n",
       "      <td>118.0</td>\n",
       "      <td>24.0</td>\n",
       "      <td>38.0</td>\n",
       "      <td>0.0</td>\n",
       "      <td>186.0</td>\n",
       "      <td>1.0</td>\n",
       "      <td>220.0</td>\n",
       "      <td>2.0</td>\n",
       "      <td>991.0</td>\n",
       "    </tr>\n",
       "    <tr>\n",
       "      <th>phenomenology</th>\n",
       "      <td>161.0</td>\n",
       "      <td>77.0</td>\n",
       "      <td>50.0</td>\n",
       "      <td>64.0</td>\n",
       "      <td>0.0</td>\n",
       "      <td>150.0</td>\n",
       "      <td>52.0</td>\n",
       "      <td>69.0</td>\n",
       "      <td>0.0</td>\n",
       "      <td>1.0</td>\n",
       "      <td>0.0</td>\n",
       "      <td>118.0</td>\n",
       "      <td>0.0</td>\n",
       "      <td>742.0</td>\n",
       "    </tr>\n",
       "    <tr>\n",
       "      <th>rationalism</th>\n",
       "      <td>0.0</td>\n",
       "      <td>168.0</td>\n",
       "      <td>0.0</td>\n",
       "      <td>38.0</td>\n",
       "      <td>0.0</td>\n",
       "      <td>0.0</td>\n",
       "      <td>0.0</td>\n",
       "      <td>0.0</td>\n",
       "      <td>0.0</td>\n",
       "      <td>0.0</td>\n",
       "      <td>0.0</td>\n",
       "      <td>0.0</td>\n",
       "      <td>0.0</td>\n",
       "      <td>206.0</td>\n",
       "    </tr>\n",
       "    <tr>\n",
       "      <th>empiricism</th>\n",
       "      <td>0.0</td>\n",
       "      <td>4.0</td>\n",
       "      <td>0.0</td>\n",
       "      <td>10.0</td>\n",
       "      <td>0.0</td>\n",
       "      <td>0.0</td>\n",
       "      <td>0.0</td>\n",
       "      <td>0.0</td>\n",
       "      <td>0.0</td>\n",
       "      <td>0.0</td>\n",
       "      <td>0.0</td>\n",
       "      <td>0.0</td>\n",
       "      <td>1.0</td>\n",
       "      <td>15.0</td>\n",
       "    </tr>\n",
       "    <tr>\n",
       "      <th>feminism</th>\n",
       "      <td>11.0</td>\n",
       "      <td>10.0</td>\n",
       "      <td>0.0</td>\n",
       "      <td>31.0</td>\n",
       "      <td>0.0</td>\n",
       "      <td>3.0</td>\n",
       "      <td>3.0</td>\n",
       "      <td>0.0</td>\n",
       "      <td>19.0</td>\n",
       "      <td>25.0</td>\n",
       "      <td>1.0</td>\n",
       "      <td>13.0</td>\n",
       "      <td>1.0</td>\n",
       "      <td>117.0</td>\n",
       "    </tr>\n",
       "    <tr>\n",
       "      <th>capitalism</th>\n",
       "      <td>1.0</td>\n",
       "      <td>5.0</td>\n",
       "      <td>0.0</td>\n",
       "      <td>6.0</td>\n",
       "      <td>2.0</td>\n",
       "      <td>0.0</td>\n",
       "      <td>0.0</td>\n",
       "      <td>0.0</td>\n",
       "      <td>0.0</td>\n",
       "      <td>5.0</td>\n",
       "      <td>0.0</td>\n",
       "      <td>0.0</td>\n",
       "      <td>0.0</td>\n",
       "      <td>19.0</td>\n",
       "    </tr>\n",
       "    <tr>\n",
       "      <th>communism</th>\n",
       "      <td>1.0</td>\n",
       "      <td>11.0</td>\n",
       "      <td>1.0</td>\n",
       "      <td>8.0</td>\n",
       "      <td>9.0</td>\n",
       "      <td>0.0</td>\n",
       "      <td>0.0</td>\n",
       "      <td>0.0</td>\n",
       "      <td>0.0</td>\n",
       "      <td>239.0</td>\n",
       "      <td>51.0</td>\n",
       "      <td>0.0</td>\n",
       "      <td>0.0</td>\n",
       "      <td>320.0</td>\n",
       "    </tr>\n",
       "    <tr>\n",
       "      <th>nietzsche</th>\n",
       "      <td>0.0</td>\n",
       "      <td>7.0</td>\n",
       "      <td>14.0</td>\n",
       "      <td>49.0</td>\n",
       "      <td>0.0</td>\n",
       "      <td>0.0</td>\n",
       "      <td>1.0</td>\n",
       "      <td>0.0</td>\n",
       "      <td>1.0</td>\n",
       "      <td>0.0</td>\n",
       "      <td>0.0</td>\n",
       "      <td>4.0</td>\n",
       "      <td>3.0</td>\n",
       "      <td>79.0</td>\n",
       "    </tr>\n",
       "    <tr>\n",
       "      <th>stoicism</th>\n",
       "      <td>0.0</td>\n",
       "      <td>0.0</td>\n",
       "      <td>0.0</td>\n",
       "      <td>7.0</td>\n",
       "      <td>0.0</td>\n",
       "      <td>0.0</td>\n",
       "      <td>0.0</td>\n",
       "      <td>0.0</td>\n",
       "      <td>0.0</td>\n",
       "      <td>0.0</td>\n",
       "      <td>0.0</td>\n",
       "      <td>0.0</td>\n",
       "      <td>0.0</td>\n",
       "      <td>7.0</td>\n",
       "    </tr>\n",
       "    <tr>\n",
       "      <th>sum</th>\n",
       "      <td>1042.0</td>\n",
       "      <td>462.0</td>\n",
       "      <td>223.0</td>\n",
       "      <td>583.0</td>\n",
       "      <td>14.0</td>\n",
       "      <td>297.0</td>\n",
       "      <td>93.0</td>\n",
       "      <td>164.0</td>\n",
       "      <td>20.0</td>\n",
       "      <td>456.0</td>\n",
       "      <td>55.0</td>\n",
       "      <td>355.0</td>\n",
       "      <td>23.0</td>\n",
       "      <td>3787.0</td>\n",
       "    </tr>\n",
       "  </tbody>\n",
       "</table>\n",
       "</div>"
      ],
      "text/plain": [
       "                 analytic  aristotle  german_idealism  plato  continental  \\\n",
       "analytic            394.0      107.0             33.0   45.0          2.0   \n",
       "aristotle            27.0        0.0              0.0   74.0          0.0   \n",
       "german_idealism     260.0       36.0            110.0   58.0          0.0   \n",
       "plato                 1.0        0.0              0.0   30.0          0.0   \n",
       "continental         186.0       37.0             15.0  163.0          1.0   \n",
       "phenomenology       161.0       77.0             50.0   64.0          0.0   \n",
       "rationalism           0.0      168.0              0.0   38.0          0.0   \n",
       "empiricism            0.0        4.0              0.0   10.0          0.0   \n",
       "feminism             11.0       10.0              0.0   31.0          0.0   \n",
       "capitalism            1.0        5.0              0.0    6.0          2.0   \n",
       "communism             1.0       11.0              1.0    8.0          9.0   \n",
       "nietzsche             0.0        7.0             14.0   49.0          0.0   \n",
       "stoicism              0.0        0.0              0.0    7.0          0.0   \n",
       "sum                1042.0      462.0            223.0  583.0         14.0   \n",
       "\n",
       "                 phenomenology  rationalism  empiricism  feminism  capitalism  \\\n",
       "analytic                   0.0          3.0        29.0       0.0         0.0   \n",
       "aristotle                  0.0          0.0         0.0       0.0         0.0   \n",
       "german_idealism           26.0         10.0        28.0       0.0         0.0   \n",
       "plato                      0.0          0.0         0.0       0.0         0.0   \n",
       "continental              118.0         24.0        38.0       0.0       186.0   \n",
       "phenomenology            150.0         52.0        69.0       0.0         1.0   \n",
       "rationalism                0.0          0.0         0.0       0.0         0.0   \n",
       "empiricism                 0.0          0.0         0.0       0.0         0.0   \n",
       "feminism                   3.0          3.0         0.0      19.0        25.0   \n",
       "capitalism                 0.0          0.0         0.0       0.0         5.0   \n",
       "communism                  0.0          0.0         0.0       0.0       239.0   \n",
       "nietzsche                  0.0          1.0         0.0       1.0         0.0   \n",
       "stoicism                   0.0          0.0         0.0       0.0         0.0   \n",
       "sum                      297.0         93.0       164.0      20.0       456.0   \n",
       "\n",
       "                 communism  nietzsche  stoicism     sum  \n",
       "analytic               1.0        0.0       1.0   615.0  \n",
       "aristotle              1.0        0.0       0.0   102.0  \n",
       "german_idealism        0.0        0.0      13.0   541.0  \n",
       "plato                  0.0        0.0       2.0    33.0  \n",
       "continental            1.0      220.0       2.0   991.0  \n",
       "phenomenology          0.0      118.0       0.0   742.0  \n",
       "rationalism            0.0        0.0       0.0   206.0  \n",
       "empiricism             0.0        0.0       1.0    15.0  \n",
       "feminism               1.0       13.0       1.0   117.0  \n",
       "capitalism             0.0        0.0       0.0    19.0  \n",
       "communism             51.0        0.0       0.0   320.0  \n",
       "nietzsche              0.0        4.0       3.0    79.0  \n",
       "stoicism               0.0        0.0       0.0     7.0  \n",
       "sum                   55.0      355.0      23.0  3787.0  "
      ]
     },
     "execution_count": 80,
     "metadata": {},
     "output_type": "execute_result"
    }
   ],
   "source": [
    "mention_df"
   ]
  },
  {
   "cell_type": "markdown",
   "id": "8810dce9",
   "metadata": {},
   "source": [
    "With the sum of sentiment values and total mentioning counts, we divide the two dataframes element-wise to get an average sentiment distribution of mutual interactions."
   ]
  },
  {
   "cell_type": "code",
   "execution_count": 86,
   "id": "ae45c41e",
   "metadata": {},
   "outputs": [],
   "source": [
    "positive_df = pd.DataFrame(sentiment_lists)\n",
    "positive_df.columns = school_list \n",
    "positive_df.index = school_list "
   ]
  },
  {
   "cell_type": "code",
   "execution_count": 87,
   "id": "e47006be",
   "metadata": {},
   "outputs": [
    {
     "data": {
      "text/html": [
       "<div>\n",
       "<style scoped>\n",
       "    .dataframe tbody tr th:only-of-type {\n",
       "        vertical-align: middle;\n",
       "    }\n",
       "\n",
       "    .dataframe tbody tr th {\n",
       "        vertical-align: top;\n",
       "    }\n",
       "\n",
       "    .dataframe thead th {\n",
       "        text-align: right;\n",
       "    }\n",
       "</style>\n",
       "<table border=\"1\" class=\"dataframe\">\n",
       "  <thead>\n",
       "    <tr style=\"text-align: right;\">\n",
       "      <th></th>\n",
       "      <th>analytic</th>\n",
       "      <th>aristotle</th>\n",
       "      <th>german_idealism</th>\n",
       "      <th>plato</th>\n",
       "      <th>continental</th>\n",
       "      <th>phenomenology</th>\n",
       "      <th>rationalism</th>\n",
       "      <th>empiricism</th>\n",
       "      <th>feminism</th>\n",
       "      <th>capitalism</th>\n",
       "      <th>communism</th>\n",
       "      <th>nietzsche</th>\n",
       "      <th>stoicism</th>\n",
       "    </tr>\n",
       "  </thead>\n",
       "  <tbody>\n",
       "    <tr>\n",
       "      <th>analytic</th>\n",
       "      <td>0.225174</td>\n",
       "      <td>0.239384</td>\n",
       "      <td>0.367769</td>\n",
       "      <td>0.162174</td>\n",
       "      <td>0.0</td>\n",
       "      <td>0.000000</td>\n",
       "      <td>0.000000</td>\n",
       "      <td>0.231801</td>\n",
       "      <td>0.00000</td>\n",
       "      <td>0.000000</td>\n",
       "      <td>0.000000</td>\n",
       "      <td>0.000000</td>\n",
       "      <td>0.000000</td>\n",
       "    </tr>\n",
       "    <tr>\n",
       "      <th>aristotle</th>\n",
       "      <td>0.030471</td>\n",
       "      <td>0.000000</td>\n",
       "      <td>0.000000</td>\n",
       "      <td>0.166508</td>\n",
       "      <td>0.0</td>\n",
       "      <td>0.000000</td>\n",
       "      <td>0.000000</td>\n",
       "      <td>0.000000</td>\n",
       "      <td>0.00000</td>\n",
       "      <td>0.000000</td>\n",
       "      <td>0.000000</td>\n",
       "      <td>0.000000</td>\n",
       "      <td>0.000000</td>\n",
       "    </tr>\n",
       "    <tr>\n",
       "      <th>german_idealism</th>\n",
       "      <td>0.307673</td>\n",
       "      <td>0.267301</td>\n",
       "      <td>0.544697</td>\n",
       "      <td>0.154302</td>\n",
       "      <td>0.0</td>\n",
       "      <td>0.573481</td>\n",
       "      <td>0.381667</td>\n",
       "      <td>0.407474</td>\n",
       "      <td>0.00000</td>\n",
       "      <td>0.000000</td>\n",
       "      <td>0.000000</td>\n",
       "      <td>0.000000</td>\n",
       "      <td>0.145018</td>\n",
       "    </tr>\n",
       "    <tr>\n",
       "      <th>plato</th>\n",
       "      <td>0.000000</td>\n",
       "      <td>0.000000</td>\n",
       "      <td>0.000000</td>\n",
       "      <td>0.296731</td>\n",
       "      <td>0.0</td>\n",
       "      <td>0.000000</td>\n",
       "      <td>0.000000</td>\n",
       "      <td>0.000000</td>\n",
       "      <td>0.00000</td>\n",
       "      <td>0.000000</td>\n",
       "      <td>0.000000</td>\n",
       "      <td>0.000000</td>\n",
       "      <td>0.000000</td>\n",
       "    </tr>\n",
       "    <tr>\n",
       "      <th>continental</th>\n",
       "      <td>0.141405</td>\n",
       "      <td>0.152441</td>\n",
       "      <td>0.276720</td>\n",
       "      <td>0.098943</td>\n",
       "      <td>0.0</td>\n",
       "      <td>0.264090</td>\n",
       "      <td>0.147147</td>\n",
       "      <td>0.244913</td>\n",
       "      <td>0.00000</td>\n",
       "      <td>0.148987</td>\n",
       "      <td>0.000000</td>\n",
       "      <td>0.068497</td>\n",
       "      <td>0.000000</td>\n",
       "    </tr>\n",
       "    <tr>\n",
       "      <th>phenomenology</th>\n",
       "      <td>0.270561</td>\n",
       "      <td>0.190957</td>\n",
       "      <td>0.438535</td>\n",
       "      <td>0.199409</td>\n",
       "      <td>0.0</td>\n",
       "      <td>0.416279</td>\n",
       "      <td>0.166762</td>\n",
       "      <td>0.170956</td>\n",
       "      <td>0.00000</td>\n",
       "      <td>0.000000</td>\n",
       "      <td>0.000000</td>\n",
       "      <td>0.100974</td>\n",
       "      <td>0.000000</td>\n",
       "    </tr>\n",
       "    <tr>\n",
       "      <th>rationalism</th>\n",
       "      <td>0.000000</td>\n",
       "      <td>0.156412</td>\n",
       "      <td>0.000000</td>\n",
       "      <td>0.103560</td>\n",
       "      <td>0.0</td>\n",
       "      <td>0.000000</td>\n",
       "      <td>0.000000</td>\n",
       "      <td>0.000000</td>\n",
       "      <td>0.00000</td>\n",
       "      <td>0.000000</td>\n",
       "      <td>0.000000</td>\n",
       "      <td>0.000000</td>\n",
       "      <td>0.000000</td>\n",
       "    </tr>\n",
       "    <tr>\n",
       "      <th>empiricism</th>\n",
       "      <td>0.000000</td>\n",
       "      <td>0.000000</td>\n",
       "      <td>0.000000</td>\n",
       "      <td>0.394670</td>\n",
       "      <td>0.0</td>\n",
       "      <td>0.000000</td>\n",
       "      <td>0.000000</td>\n",
       "      <td>0.000000</td>\n",
       "      <td>0.00000</td>\n",
       "      <td>0.000000</td>\n",
       "      <td>0.000000</td>\n",
       "      <td>0.000000</td>\n",
       "      <td>0.000000</td>\n",
       "    </tr>\n",
       "    <tr>\n",
       "      <th>feminism</th>\n",
       "      <td>-0.057809</td>\n",
       "      <td>0.260703</td>\n",
       "      <td>0.000000</td>\n",
       "      <td>0.117943</td>\n",
       "      <td>0.0</td>\n",
       "      <td>0.000000</td>\n",
       "      <td>0.000000</td>\n",
       "      <td>0.000000</td>\n",
       "      <td>0.20185</td>\n",
       "      <td>0.117782</td>\n",
       "      <td>0.000000</td>\n",
       "      <td>0.037723</td>\n",
       "      <td>0.000000</td>\n",
       "    </tr>\n",
       "    <tr>\n",
       "      <th>capitalism</th>\n",
       "      <td>0.000000</td>\n",
       "      <td>0.000000</td>\n",
       "      <td>0.000000</td>\n",
       "      <td>0.000000</td>\n",
       "      <td>0.0</td>\n",
       "      <td>0.000000</td>\n",
       "      <td>0.000000</td>\n",
       "      <td>0.000000</td>\n",
       "      <td>0.00000</td>\n",
       "      <td>0.000000</td>\n",
       "      <td>0.000000</td>\n",
       "      <td>0.000000</td>\n",
       "      <td>0.000000</td>\n",
       "    </tr>\n",
       "    <tr>\n",
       "      <th>communism</th>\n",
       "      <td>0.000000</td>\n",
       "      <td>0.396006</td>\n",
       "      <td>0.000000</td>\n",
       "      <td>0.000000</td>\n",
       "      <td>0.0</td>\n",
       "      <td>0.000000</td>\n",
       "      <td>0.000000</td>\n",
       "      <td>0.000000</td>\n",
       "      <td>0.00000</td>\n",
       "      <td>0.187015</td>\n",
       "      <td>-0.123663</td>\n",
       "      <td>0.000000</td>\n",
       "      <td>0.000000</td>\n",
       "    </tr>\n",
       "    <tr>\n",
       "      <th>nietzsche</th>\n",
       "      <td>0.000000</td>\n",
       "      <td>0.000000</td>\n",
       "      <td>0.199473</td>\n",
       "      <td>0.121614</td>\n",
       "      <td>0.0</td>\n",
       "      <td>0.000000</td>\n",
       "      <td>0.000000</td>\n",
       "      <td>0.000000</td>\n",
       "      <td>0.00000</td>\n",
       "      <td>0.000000</td>\n",
       "      <td>0.000000</td>\n",
       "      <td>0.000000</td>\n",
       "      <td>0.000000</td>\n",
       "    </tr>\n",
       "    <tr>\n",
       "      <th>stoicism</th>\n",
       "      <td>0.000000</td>\n",
       "      <td>0.000000</td>\n",
       "      <td>0.000000</td>\n",
       "      <td>0.000000</td>\n",
       "      <td>0.0</td>\n",
       "      <td>0.000000</td>\n",
       "      <td>0.000000</td>\n",
       "      <td>0.000000</td>\n",
       "      <td>0.00000</td>\n",
       "      <td>0.000000</td>\n",
       "      <td>0.000000</td>\n",
       "      <td>0.000000</td>\n",
       "      <td>0.000000</td>\n",
       "    </tr>\n",
       "  </tbody>\n",
       "</table>\n",
       "</div>"
      ],
      "text/plain": [
       "                 analytic  aristotle  german_idealism     plato  continental  \\\n",
       "analytic         0.225174   0.239384         0.367769  0.162174          0.0   \n",
       "aristotle        0.030471   0.000000         0.000000  0.166508          0.0   \n",
       "german_idealism  0.307673   0.267301         0.544697  0.154302          0.0   \n",
       "plato            0.000000   0.000000         0.000000  0.296731          0.0   \n",
       "continental      0.141405   0.152441         0.276720  0.098943          0.0   \n",
       "phenomenology    0.270561   0.190957         0.438535  0.199409          0.0   \n",
       "rationalism      0.000000   0.156412         0.000000  0.103560          0.0   \n",
       "empiricism       0.000000   0.000000         0.000000  0.394670          0.0   \n",
       "feminism        -0.057809   0.260703         0.000000  0.117943          0.0   \n",
       "capitalism       0.000000   0.000000         0.000000  0.000000          0.0   \n",
       "communism        0.000000   0.396006         0.000000  0.000000          0.0   \n",
       "nietzsche        0.000000   0.000000         0.199473  0.121614          0.0   \n",
       "stoicism         0.000000   0.000000         0.000000  0.000000          0.0   \n",
       "\n",
       "                 phenomenology  rationalism  empiricism  feminism  capitalism  \\\n",
       "analytic              0.000000     0.000000    0.231801   0.00000    0.000000   \n",
       "aristotle             0.000000     0.000000    0.000000   0.00000    0.000000   \n",
       "german_idealism       0.573481     0.381667    0.407474   0.00000    0.000000   \n",
       "plato                 0.000000     0.000000    0.000000   0.00000    0.000000   \n",
       "continental           0.264090     0.147147    0.244913   0.00000    0.148987   \n",
       "phenomenology         0.416279     0.166762    0.170956   0.00000    0.000000   \n",
       "rationalism           0.000000     0.000000    0.000000   0.00000    0.000000   \n",
       "empiricism            0.000000     0.000000    0.000000   0.00000    0.000000   \n",
       "feminism              0.000000     0.000000    0.000000   0.20185    0.117782   \n",
       "capitalism            0.000000     0.000000    0.000000   0.00000    0.000000   \n",
       "communism             0.000000     0.000000    0.000000   0.00000    0.187015   \n",
       "nietzsche             0.000000     0.000000    0.000000   0.00000    0.000000   \n",
       "stoicism              0.000000     0.000000    0.000000   0.00000    0.000000   \n",
       "\n",
       "                 communism  nietzsche  stoicism  \n",
       "analytic          0.000000   0.000000  0.000000  \n",
       "aristotle         0.000000   0.000000  0.000000  \n",
       "german_idealism   0.000000   0.000000  0.145018  \n",
       "plato             0.000000   0.000000  0.000000  \n",
       "continental       0.000000   0.068497  0.000000  \n",
       "phenomenology     0.000000   0.100974  0.000000  \n",
       "rationalism       0.000000   0.000000  0.000000  \n",
       "empiricism        0.000000   0.000000  0.000000  \n",
       "feminism          0.000000   0.037723  0.000000  \n",
       "capitalism        0.000000   0.000000  0.000000  \n",
       "communism        -0.123663   0.000000  0.000000  \n",
       "nietzsche         0.000000   0.000000  0.000000  \n",
       "stoicism          0.000000   0.000000  0.000000  "
      ]
     },
     "execution_count": 87,
     "metadata": {},
     "output_type": "execute_result"
    }
   ],
   "source": [
    "for i in range(positive_df.shape[0]):\n",
    "    for j in range(positive_df.shape[1]):\n",
    "        if mention_df.iloc[i,j] >= 10:\n",
    "            positive_df.iloc[i,j] = positive_df.iloc[i,j]/mention_df.iloc[i,j]\n",
    "        else:\n",
    "            positive_df.iloc[i,j] = 0\n",
    "positive_df"
   ]
  },
  {
   "cell_type": "markdown",
   "id": "5a2ed0bc",
   "metadata": {},
   "source": [
    "Below is a sanity check that the counting function works well. As we could see, the analytic school mentioned empiricism 29 times, and a subset of the sentences found actually mentioned \"empiricism\", so our subsetting grammar is working well."
   ]
  },
  {
   "cell_type": "code",
   "execution_count": 88,
   "id": "f36ab58f",
   "metadata": {},
   "outputs": [],
   "source": [
    "analytic_data = df[df.school == \"analytic\"].reset_index()\n",
    "analytic_mention_empiricism = []\n",
    "for i in range(analytic_data.shape[0]):\n",
    "    if analytic_data.sentence_lowered[i].find(\"empiricism\") != -1:\n",
    "        analytic_mention_empiricism.append(analytic_data.sentence_lowered[i])"
   ]
  },
  {
   "cell_type": "code",
   "execution_count": 89,
   "id": "8850a3f4",
   "metadata": {},
   "outputs": [
    {
     "data": {
      "text/plain": [
       "(29,\n",
       " ['reprinted in essays in radical empiricism (longmans, green and co., pp.',\n",
       "  'essays in radical empiricism, pp.',\n",
       "  \"leibniz's conception of many possible worlds seems to accord much better with modern logic and with the practical empiricism which is now universal.\",\n",
       "  'against sensationalism and empiricism they have maintained the true view.',\n",
       "  'as suggested by paul feyerabend, explanation, reduction, and empiricism, minnesota studies in the philosophy of science (minneapolis:'])"
      ]
     },
     "execution_count": 89,
     "metadata": {},
     "output_type": "execute_result"
    }
   ],
   "source": [
    "len(analytic_mention_empiricism), analytic_mention_empiricism[:5]"
   ]
  },
  {
   "cell_type": "markdown",
   "id": "8890165f",
   "metadata": {},
   "source": [
    "Next, we make two heatmap plots, the first one is about the frequency of each school mentioning other schools, and the second one is about the general emotion of each school towards other schools."
   ]
  },
  {
   "cell_type": "markdown",
   "id": "d299f041",
   "metadata": {},
   "source": [
    "From the heatmap, we could see that \n",
    "* Analytic school mentions itself very frequenly, and is also frequently mentioned by idealism, continental and phenomenology. \n",
    "* The continental and phenomenology constantly refer to other schools. \n",
    "* Communism authors mention capitalism the most frequently, and they also mention their own school, which matches our expectation."
   ]
  },
  {
   "cell_type": "code",
   "execution_count": 209,
   "id": "0bc0ce34",
   "metadata": {},
   "outputs": [
    {
     "data": {
      "text/plain": [
       "Text(0.5, 1.0, 'Frequency of each school mentioning other schools')"
      ]
     },
     "execution_count": 209,
     "metadata": {},
     "output_type": "execute_result"
    },
    {
     "data": {
      "image/png": "[encoded data removed]",
      "text/plain": [
       "<Figure size 432x288 with 2 Axes>"
      ]
     },
     "metadata": {},
     "output_type": "display_data"
    }
   ],
   "source": [
    "sns.set_theme()\n",
    "sns.heatmap(mention_df.iloc[:13,:13],cmap=\"YlGnBu\")\n",
    "plt.title(\"Frequency of each school mentioning other schools\")"
   ]
  },
  {
   "cell_type": "markdown",
   "id": "9b0306e7",
   "metadata": {},
   "source": [
    "Next, we plot the sentiment distribution with the sentiment_df computed above. We could spot some key findings with this plot:\n",
    "* Idealism holds mostly positive (if not neutral) attitude towards other schools, and it's especially positive towards phenomenology, idealism itself, and empiricism.\n",
    "* Feminism holds a very negative view towards analytic.\n",
    "* Plato, idealism and aristotle are generally positively supported by other schools (if not neutral)."
   ]
  },
  {
   "cell_type": "code",
   "execution_count": 90,
   "id": "174b531d",
   "metadata": {},
   "outputs": [
    {
     "data": {
      "text/plain": [
       "<AxesSubplot:>"
      ]
     },
     "execution_count": 90,
     "metadata": {},
     "output_type": "execute_result"
    },
    {
     "data": {
      "image/png": "[encoded data removed]",
      "text/plain": [
       "<Figure size 432x288 with 2 Axes>"
      ]
     },
     "metadata": {},
     "output_type": "display_data"
    }
   ],
   "source": [
    "sns.heatmap(positive_df, cmap=\"RdYlBu\")"
   ]
  },
  {
   "cell_type": "markdown",
   "id": "280caee1",
   "metadata": {},
   "source": [
    "Now we verify the findings by extracting relevant texts from the original dataset. We define a function to make this easily reproducible."
   ]
  },
  {
   "cell_type": "code",
   "execution_count": 227,
   "id": "5ff210d9",
   "metadata": {},
   "outputs": [],
   "source": [
    "def verifyAttitude(school_1, school_2, num_sentences):\n",
    "    count = 0\n",
    "    school_1_data = df[df.school == school_1].reset_index()\n",
    "    for i in range(school_1_data.shape[0]):\n",
    "        if count >= num_sentences:\n",
    "            break\n",
    "        else:\n",
    "            if school_1_data.sentence_lowered[i].count(school_2)>0:\n",
    "                if school_1_data.positive[i] > school_1_data.negative[i]:\n",
    "                    print(school_1_data.sentence_lowered[i])\n",
    "                    print(\"Positive\", school_1_data.positive[i])\n",
    "                    print(\"--\")\n",
    "                    count += 1\n",
    "                if school_1_data.positive[i] < school_1_data.negative[i]:\n",
    "                    print(school_1_data.sentence_lowered[i])\n",
    "                    print(\"Negative\", school_1_data.negative[i])\n",
    "                    print(\"--\")\n",
    "                    count += 1"
   ]
  },
  {
   "cell_type": "markdown",
   "id": "60869f5c",
   "metadata": {},
   "source": [
    "* From texts like \"the connection of the science that i call phenomenology of spirit to the logic is thereby stated.\" and \"it therefore constitutes the first sequel to the phenomenology of spirit in an expanded plan of the system of science.\" shows the positive attitude of german_idealism scholars towards phenomenology."
   ]
  },
  {
   "cell_type": "code",
   "execution_count": 223,
   "id": "ce9ec826",
   "metadata": {},
   "outputs": [
    {
     "name": "stdout",
     "output_type": "stream",
     "text": [
      "a phenomenology of spirit, preface to the first edition.\n",
      "Positive 0.5\n",
      "--\n",
      "in this fashion have i tried to portray consciousness in the phenomenology of spirit.\n",
      "Positive 1.0\n",
      "--\n",
      "the connection of the science that i call phenomenology of spirit to the logic is thereby stated.\n",
      "Positive 1.0\n",
      "--\n",
      "as regards the way it stands to it externally, a second part was intended to follow the first part of the system of scienceb that contains the phenomenology.\n",
      "Positive 0.3333333333333333\n",
      "--\n",
      "it therefore constitutes the first sequel to the phenomenology of spirit in an expanded plan of the system of science.\n",
      "Positive 0.25\n",
      "--\n"
     ]
    }
   ],
   "source": [
    "verifyAttitude(\"german_idealism\", \"phenomenology\", 5)"
   ]
  },
  {
   "cell_type": "markdown",
   "id": "e620ad48",
   "metadata": {},
   "source": [
    "* The sentence \"if the psychoanalytical method is often productive in spite of errors in theory, it is because there are givens in every individual case so generalized that no one would dream of denying them\" from feminism scholars clearly shows the negative attitude towards the analytic school."
   ]
  },
  {
   "cell_type": "code",
   "execution_count": 231,
   "id": "3bb3c0eb",
   "metadata": {},
   "outputs": [
    {
     "name": "stdout",
     "output_type": "stream",
     "text": [
      "so we will begin by discussing woman from a biological, psychoanalytical, and historical materialist point of view.\n",
      "Negative 0.5\n",
      "--\n",
      "if the psychoanalytical method is often productive in spite of errors in theory, it is because there are givens in every individual case so generalized that no one would dream of denying them:\n",
      "Negative 0.3\n",
      "--\n",
      "a symbol does not emerge as an allegory worked out by a mysterious unconscious: it is the apprehension of a signification through an analogue of the signifying object; because of the identity of the existential situation cutting across all existents and the identity of the facticity they have to cope with, significations are revealed to many individuals in the same way; symbolism did not fall out of heaven or rise out of subterranean depths: it was elaborated like language, by the human reality that is at once mitsein and separation; and this explains that singular invention also has its place: in practice the psychoanalytical method must accept this whether or not doctrine authorizes it.\n",
      "Negative 0.26666666666666666\n",
      "--\n",
      "the child accepts naturally that there are men and women as there are a sun and a moon: she believes in essences contained in words, and his curiosity is at first not analytical.\n",
      "Positive 0.23076923076923078\n",
      "--\n",
      "the young heroine of the psychoanalytical journal described her horror of the sanitary napkin; she did not even consent to undress in front of her sister except in the dark during these times.\n",
      "Positive 0.2\n",
      "--\n"
     ]
    }
   ],
   "source": [
    "verifyAttitude(\"feminism\", \"analytic\", 5)"
   ]
  },
  {
   "cell_type": "markdown",
   "id": "397cf92f",
   "metadata": {},
   "source": [
    "* The sentence \"sharply distinguished from this universal but mythicalpractical attitude is the theoretical attitude, which is not practical in any sense used so far, the attitude of oavpafav, to which the great figures of the first culminating period of greek philosophy, plato and aristotle, traced the origin of philosophy.\" depicts the positive attitude of phenomenology towards plato."
   ]
  },
  {
   "cell_type": "code",
   "execution_count": 234,
   "id": "60c65005",
   "metadata": {},
   "outputs": [
    {
     "name": "stdout",
     "output_type": "stream",
     "text": [
      "plato still allowed the empiricist the power of pointing a finger at things, but the truth is that even this silent gesture is impossible if what is pointed out is not already torn from instantaneous existence and monadic existence, and treated as representative of its previous appearances in me, and of its simultaneous appearances in others, in other words, subsumed under some category and promoted to the status of a concept if the patient is no longer able to point to some part of his body which is touched, it is because he is no longer a subject face to face with an objective world, and can no longer take up a 'categorial attitude'.\n",
      "Positive 0.35294117647058826\n",
      "--\n",
      "natural geometry' or 'natural judgement' are myths in the platonic sense, intended to represent the envelopment or 'implication' of a significance in signs, neither signs nor significance being yet posited and explicitly contained in thought, and this is what we must elucidate by returning to perceptual experience.\n",
      "Positive 0.5\n",
      "--\n",
      "for this renewed platonism this means not only that man should be changed ethically but that the whole human surrounding world, the political and social existence of mankind, must be fashioned anew through free reason, through the insights of a universal philosophy.\n",
      "Positive 1.0\n",
      "--\n",
      "of course the ancients, guided by the platonic doctrine of ideas, had already idealized empirical numbers, units of measurement, empirical figures in space, points, lines, surfaces, bodies; and they had transformed the propositions and proofs of geometry into ideal geometrical propositions and proofs.\n",
      "Positive 0.3333333333333333\n",
      "--\n",
      "sharply distinguished from this universal but mythicalpractical attitude is the theoretical attitude, which is not practical in any sense used so far, the attitude of oavpafav, to which the great figures of the first culminating period of greek philosophy, plato and aristotle, traced the origin of philosophy.\n",
      "Positive 1.0\n",
      "--\n"
     ]
    }
   ],
   "source": [
    "verifyAttitude(\"phenomenology\", \"plato\", 5)"
   ]
  },
  {
   "cell_type": "markdown",
   "id": "18e9a0fa",
   "metadata": {},
   "source": [
    "# Step 2: PCA and K-means clustering of schools"
   ]
  },
  {
   "cell_type": "markdown",
   "id": "8a587005",
   "metadata": {},
   "source": [
    "In this part, we start from the sentiment dataset obtained in earlier steps, intending to apply k-means clustering to verify if the clustering pattern is consistent with the analysis above. We first apply PCA algorithm to reduce dimensionality before k-means clustering, so that we could avoid the curse of dimensionality and make the prediction more accurate."
   ]
  },
  {
   "cell_type": "code",
   "execution_count": 236,
   "id": "e552c730",
   "metadata": {},
   "outputs": [],
   "source": [
    "# Set up the PCA and k_means pipeline\n",
    "preprocessor = Pipeline(\n",
    "    [\n",
    "        (\"scaler\", MinMaxScaler()),\n",
    "        (\"pca\", PCA(n_components=2, random_state=99)),\n",
    "    ]\n",
    ")\n",
    "\n",
    "clusterer = Pipeline(\n",
    "   [\n",
    "       (\n",
    "           \"kmeans\",\n",
    "           KMeans(\n",
    "               n_clusters=3,\n",
    "               init=\"k-means++\",\n",
    "               n_init=50,\n",
    "               max_iter=200,\n",
    "               random_state=99,\n",
    "           ),\n",
    "       ),\n",
    "   ]\n",
    ")\n",
    "\n",
    "pipe = Pipeline(\n",
    "    [\n",
    "        (\"preprocessor\", preprocessor),\n",
    "        (\"clusterer\", clusterer)\n",
    "    ]\n",
    ")"
   ]
  },
  {
   "cell_type": "code",
   "execution_count": 237,
   "id": "b1dcd228",
   "metadata": {},
   "outputs": [
    {
     "data": {
      "image/png": "[encoded data removed]",
      "text/plain": [
       "<Figure size 576x576 with 1 Axes>"
      ]
     },
     "metadata": {},
     "output_type": "display_data"
    }
   ],
   "source": [
    "school_group = df.groupby(\"school\").mean(senti_types)\n",
    "data = school_group[senti_types]\n",
    "pipe.fit(data)\n",
    "preprocessed_data = pipe[\"preprocessor\"].transform(data[senti_types])\n",
    "predicted_labels = pipe[\"clusterer\"][\"kmeans\"].labels_\n",
    "\n",
    "\n",
    "pca_result = pd.DataFrame(\n",
    "    pipe[\"preprocessor\"].transform(data),\n",
    "    columns=[\"component_1\", \"component_2\"],\n",
    ")\n",
    "\n",
    "\n",
    "pca_result['name'] = school_list\n",
    "pca_result[\"predicted_cluster\"] = pipe[\"clusterer\"][\"kmeans\"].labels_\n",
    "\n",
    "plt.style.use(\"fivethirtyeight\")\n",
    "plt.figure(figsize=(8, 8))\n",
    "\n",
    "scat = sns.scatterplot(\n",
    "    \"component_1\",\n",
    "    \"component_2\",\n",
    "    s=50,\n",
    "    data=pca_result,\n",
    "    hue=\"predicted_cluster\",\n",
    "    palette=\"Set2\",\n",
    ")\n",
    "\n",
    "scat.set_title(\n",
    "    \"Clustering results by PCA and k-means on the philosophy schools\"\n",
    ")\n",
    "plt.legend(bbox_to_anchor=(1.05, 1), loc=2, borderaxespad=0.0)\n",
    "for i in range(len(school_list)):\n",
    "    plt.annotate(school_list[i], (pca_result.component_1[i], pca_result.component_2[i]), fontsize = 10)\n",
    "\n",
    "plt.show()\n",
    "\n"
   ]
  },
  {
   "cell_type": "markdown",
   "id": "cc0ef1f3",
   "metadata": {},
   "source": [
    "From this graph, we could discover some findings that are consistent with the sentiment analysis done above.\n",
    "* German_idealism and phenomenology are in the same group, while in the above analysis they are mutually supportive of each other.\n",
    "* Feminism and analytic are very far in the graph, which matches there mutual negative attitude.\n",
    "* Plato and aristotle are in the same group that has the largest size, which matches their popularity among all schools."
   ]
  },
  {
   "cell_type": "markdown",
   "id": "88d47fee",
   "metadata": {},
   "source": [
    "# Step 3: K-means clustering of authors according to their attitude towards others"
   ]
  },
  {
   "cell_type": "markdown",
   "id": "489bcb7f",
   "metadata": {},
   "source": [
    "Finally, in this part, we want to examine if the authors of the same school have consistent attitude towards other's view points. We will vectorize the authors with their positive, negative and neutral sentences towards other authors. Sentences that don't involve other schools will not be included."
   ]
  },
  {
   "cell_type": "markdown",
   "id": "fa7a3e9f",
   "metadata": {},
   "source": [
    "Now for each author, we find the subset of the author's work and calculate the total number of sentences of each kind, to make k-means more accurate, we normalize each column of the data by subtracting the mean and then divide by standard deviation, so that each dimension plays similarly important role."
   ]
  },
  {
   "cell_type": "code",
   "execution_count": 238,
   "id": "38602637",
   "metadata": {},
   "outputs": [],
   "source": [
    "author_list = list(df.author.value_counts().index)\n",
    "positive_counts = []\n",
    "negative_counts = []\n",
    "neutral_counts = []\n",
    "for author in author_list:\n",
    "    positive_count = 0\n",
    "    negative_count = 0\n",
    "    neutral_count = 0\n",
    "    author_subset = df[df.author == author].reset_index()\n",
    "    for school in school_list:\n",
    "        for rowIndex in range(author_subset.shape[0]):\n",
    "            if author_subset.sentence_lowered[rowIndex].find(school) != -1:\n",
    "                if author_subset.positive[rowIndex] > author_subset.negative[rowIndex]:\n",
    "                    positive_count += 1\n",
    "                elif author_subset.positive[rowIndex] < author_subset.negative[rowIndex]:\n",
    "                    negative_count += 1\n",
    "                else:\n",
    "                    neutral_count += 1\n",
    "    positive_counts.append(positive_count)\n",
    "    negative_counts.append(negative_count)\n",
    "    neutral_counts.append(neutral_count)"
   ]
  },
  {
   "cell_type": "code",
   "execution_count": 239,
   "id": "ef70152a",
   "metadata": {},
   "outputs": [],
   "source": [
    "author_judgement = pd.DataFrame({\"author\":author_list})\n",
    "author_judgement['positive_reviews'] = positive_counts\n",
    "author_judgement['negative_reviews'] = negative_counts\n",
    "author_judgement['neutral_reviews'] = neutral_counts"
   ]
  },
  {
   "cell_type": "code",
   "execution_count": 240,
   "id": "76817fc9",
   "metadata": {},
   "outputs": [
    {
     "data": {
      "text/html": [
       "<div>\n",
       "<style scoped>\n",
       "    .dataframe tbody tr th:only-of-type {\n",
       "        vertical-align: middle;\n",
       "    }\n",
       "\n",
       "    .dataframe tbody tr th {\n",
       "        vertical-align: top;\n",
       "    }\n",
       "\n",
       "    .dataframe thead th {\n",
       "        text-align: right;\n",
       "    }\n",
       "</style>\n",
       "<table border=\"1\" class=\"dataframe\">\n",
       "  <thead>\n",
       "    <tr style=\"text-align: right;\">\n",
       "      <th></th>\n",
       "      <th>author</th>\n",
       "      <th>positive_reviews</th>\n",
       "      <th>negative_reviews</th>\n",
       "      <th>neutral_reviews</th>\n",
       "    </tr>\n",
       "  </thead>\n",
       "  <tbody>\n",
       "    <tr>\n",
       "      <th>0</th>\n",
       "      <td>Aristotle</td>\n",
       "      <td>-0.122939</td>\n",
       "      <td>0.015814</td>\n",
       "      <td>0.278344</td>\n",
       "    </tr>\n",
       "    <tr>\n",
       "      <th>1</th>\n",
       "      <td>Plato</td>\n",
       "      <td>-0.430693</td>\n",
       "      <td>-0.482328</td>\n",
       "      <td>-0.586359</td>\n",
       "    </tr>\n",
       "    <tr>\n",
       "      <th>2</th>\n",
       "      <td>Hegel</td>\n",
       "      <td>0.917564</td>\n",
       "      <td>0.051396</td>\n",
       "      <td>0.507236</td>\n",
       "    </tr>\n",
       "    <tr>\n",
       "      <th>3</th>\n",
       "      <td>Foucault</td>\n",
       "      <td>0.551190</td>\n",
       "      <td>0.940936</td>\n",
       "      <td>0.100317</td>\n",
       "    </tr>\n",
       "    <tr>\n",
       "      <th>4</th>\n",
       "      <td>Heidegger</td>\n",
       "      <td>2.368406</td>\n",
       "      <td>2.008384</td>\n",
       "      <td>2.440101</td>\n",
       "    </tr>\n",
       "  </tbody>\n",
       "</table>\n",
       "</div>"
      ],
      "text/plain": [
       "      author  positive_reviews  negative_reviews  neutral_reviews\n",
       "0  Aristotle         -0.122939          0.015814         0.278344\n",
       "1      Plato         -0.430693         -0.482328        -0.586359\n",
       "2      Hegel          0.917564          0.051396         0.507236\n",
       "3   Foucault          0.551190          0.940936         0.100317\n",
       "4  Heidegger          2.368406          2.008384         2.440101"
      ]
     },
     "execution_count": 240,
     "metadata": {},
     "output_type": "execute_result"
    }
   ],
   "source": [
    "author_judgement.positive_reviews = (author_judgement.positive_reviews-np.mean(author_judgement.positive_reviews))/(np.std(author_judgement.positive_reviews))\n",
    "author_judgement.negative_reviews = (author_judgement.negative_reviews-np.mean(author_judgement.negative_reviews))/(np.std(author_judgement.negative_reviews))\n",
    "author_judgement.neutral_reviews = (author_judgement.neutral_reviews-np.mean(author_judgement.neutral_reviews))/(np.std(author_judgement.neutral_reviews))\n",
    "author_judgement.head()"
   ]
  },
  {
   "cell_type": "markdown",
   "id": "91c8bde0",
   "metadata": {},
   "source": [
    "The loss function of k-means suggests that we pick the number of clusters as 4."
   ]
  },
  {
   "cell_type": "code",
   "execution_count": 241,
   "id": "6b482917",
   "metadata": {},
   "outputs": [
    {
     "data": {
      "text/plain": [
       "Text(0.5, 1.0, 'Total loss against the Number of Cluster k')"
      ]
     },
     "execution_count": 241,
     "metadata": {},
     "output_type": "execute_result"
    },
    {
     "data": {
      "image/png": "[encoded data removed]",
      "text/plain": [
       "<Figure size 432x288 with 1 Axes>"
      ]
     },
     "metadata": {},
     "output_type": "display_data"
    }
   ],
   "source": [
    "sum_of_squares = []\n",
    "K = range(1, 16)\n",
    "for k in K:\n",
    "    km = k_means(author_judgement[[\"positive_reviews\",\"negative_reviews\",\"neutral_reviews\"]], n_clusters=k)\n",
    "    sum_of_squares.append(km[2])\n",
    "plt.plot(K, sum_of_squares, 'bx-')\n",
    "plt.xlabel('k')\n",
    "plt.ylabel('Sum_of_squared_distances')\n",
    "plt.title('Total loss against the Number of Cluster k')"
   ]
  },
  {
   "cell_type": "code",
   "execution_count": 247,
   "id": "10f17be9",
   "metadata": {},
   "outputs": [],
   "source": [
    "km = k_means(author_judgement[[\"positive_reviews\",\"negative_reviews\",\"neutral_reviews\"]], n_clusters=3)\n",
    "labels = km[1]\n",
    "author_judgement[\"k_means_label\"] = labels"
   ]
  },
  {
   "cell_type": "code",
   "execution_count": 248,
   "id": "28039cf5",
   "metadata": {},
   "outputs": [
    {
     "data": {
      "text/plain": [
       "<AxesSubplot:xlabel='positive_reviews', ylabel='negative_reviews'>"
      ]
     },
     "execution_count": 248,
     "metadata": {},
     "output_type": "execute_result"
    },
    {
     "data": {
      "image/png": "[encoded data removed]",
      "text/plain": [
       "<Figure size 432x432 with 1 Axes>"
      ]
     },
     "metadata": {},
     "output_type": "display_data"
    }
   ],
   "source": [
    "plt.figure(figsize=(6, 6))\n",
    "sns.scatterplot(\"positive_reviews\", \"negative_reviews\", data = author_judgement, hue = labels)"
   ]
  },
  {
   "cell_type": "code",
   "execution_count": 249,
   "id": "5fb703bf",
   "metadata": {},
   "outputs": [
    {
     "data": {
      "text/html": [
       "<div>\n",
       "<style scoped>\n",
       "    .dataframe tbody tr th:only-of-type {\n",
       "        vertical-align: middle;\n",
       "    }\n",
       "\n",
       "    .dataframe tbody tr th {\n",
       "        vertical-align: top;\n",
       "    }\n",
       "\n",
       "    .dataframe thead th {\n",
       "        text-align: right;\n",
       "    }\n",
       "</style>\n",
       "<table border=\"1\" class=\"dataframe\">\n",
       "  <thead>\n",
       "    <tr style=\"text-align: right;\">\n",
       "      <th></th>\n",
       "      <th>author</th>\n",
       "      <th>positive_reviews</th>\n",
       "      <th>negative_reviews</th>\n",
       "      <th>neutral_reviews</th>\n",
       "      <th>k_means_label</th>\n",
       "      <th>school</th>\n",
       "    </tr>\n",
       "  </thead>\n",
       "  <tbody>\n",
       "    <tr>\n",
       "      <th>12</th>\n",
       "      <td>Kripke</td>\n",
       "      <td>0.477915</td>\n",
       "      <td>-0.019768</td>\n",
       "      <td>0.558101</td>\n",
       "      <td>2</td>\n",
       "      <td>analytic</td>\n",
       "    </tr>\n",
       "    <tr>\n",
       "      <th>27</th>\n",
       "      <td>Moore</td>\n",
       "      <td>-0.533278</td>\n",
       "      <td>-0.624655</td>\n",
       "      <td>-0.637224</td>\n",
       "      <td>0</td>\n",
       "      <td>analytic</td>\n",
       "    </tr>\n",
       "    <tr>\n",
       "      <th>22</th>\n",
       "      <td>Russell</td>\n",
       "      <td>-0.547933</td>\n",
       "      <td>-0.197676</td>\n",
       "      <td>-0.433764</td>\n",
       "      <td>0</td>\n",
       "      <td>analytic</td>\n",
       "    </tr>\n",
       "    <tr>\n",
       "      <th>18</th>\n",
       "      <td>Quine</td>\n",
       "      <td>1.547728</td>\n",
       "      <td>0.620701</td>\n",
       "      <td>1.956884</td>\n",
       "      <td>2</td>\n",
       "      <td>analytic</td>\n",
       "    </tr>\n",
       "    <tr>\n",
       "      <th>14</th>\n",
       "      <td>Wittgenstein</td>\n",
       "      <td>-0.797068</td>\n",
       "      <td>-0.589073</td>\n",
       "      <td>-0.662656</td>\n",
       "      <td>0</td>\n",
       "      <td>analytic</td>\n",
       "    </tr>\n",
       "  </tbody>\n",
       "</table>\n",
       "</div>"
      ],
      "text/plain": [
       "          author  positive_reviews  negative_reviews  neutral_reviews  \\\n",
       "12        Kripke          0.477915         -0.019768         0.558101   \n",
       "27         Moore         -0.533278         -0.624655        -0.637224   \n",
       "22       Russell         -0.547933         -0.197676        -0.433764   \n",
       "18         Quine          1.547728          0.620701         1.956884   \n",
       "14  Wittgenstein         -0.797068         -0.589073        -0.662656   \n",
       "\n",
       "    k_means_label    school  \n",
       "12              2  analytic  \n",
       "27              0  analytic  \n",
       "22              0  analytic  \n",
       "18              2  analytic  \n",
       "14              0  analytic  "
      ]
     },
     "execution_count": 249,
     "metadata": {},
     "output_type": "execute_result"
    }
   ],
   "source": [
    "author2school = [df[df.author==author].reset_index().school[0] for author in author_list]\n",
    "author_judgement['school'] = author2school\n",
    "author_judgement.sort_values(by = \"school\").head()"
   ]
  },
  {
   "cell_type": "code",
   "execution_count": 250,
   "id": "789018e5",
   "metadata": {},
   "outputs": [],
   "source": [
    "school_purity = pd.DataFrame(author_judgement.groupby(\"school\")[\"k_means_label\"].nunique()).reset_index()\n",
    "school_purity['total_num'] = list(author_judgement.groupby(\"school\")[\"k_means_label\"].count())"
   ]
  },
  {
   "cell_type": "code",
   "execution_count": 252,
   "id": "07089932",
   "metadata": {},
   "outputs": [
    {
     "data": {
      "text/html": [
       "<div>\n",
       "<style scoped>\n",
       "    .dataframe tbody tr th:only-of-type {\n",
       "        vertical-align: middle;\n",
       "    }\n",
       "\n",
       "    .dataframe tbody tr th {\n",
       "        vertical-align: top;\n",
       "    }\n",
       "\n",
       "    .dataframe thead th {\n",
       "        text-align: right;\n",
       "    }\n",
       "</style>\n",
       "<table border=\"1\" class=\"dataframe\">\n",
       "  <thead>\n",
       "    <tr style=\"text-align: right;\">\n",
       "      <th></th>\n",
       "      <th>school</th>\n",
       "      <th>k_means_label</th>\n",
       "      <th>total_num</th>\n",
       "      <th>purity</th>\n",
       "    </tr>\n",
       "  </thead>\n",
       "  <tbody>\n",
       "    <tr>\n",
       "      <th>0</th>\n",
       "      <td>analytic</td>\n",
       "      <td>2</td>\n",
       "      <td>7</td>\n",
       "      <td>3.5</td>\n",
       "    </tr>\n",
       "    <tr>\n",
       "      <th>2</th>\n",
       "      <td>capitalism</td>\n",
       "      <td>1</td>\n",
       "      <td>3</td>\n",
       "      <td>3.0</td>\n",
       "    </tr>\n",
       "    <tr>\n",
       "      <th>5</th>\n",
       "      <td>empiricism</td>\n",
       "      <td>1</td>\n",
       "      <td>3</td>\n",
       "      <td>3.0</td>\n",
       "    </tr>\n",
       "    <tr>\n",
       "      <th>6</th>\n",
       "      <td>feminism</td>\n",
       "      <td>1</td>\n",
       "      <td>3</td>\n",
       "      <td>3.0</td>\n",
       "    </tr>\n",
       "    <tr>\n",
       "      <th>11</th>\n",
       "      <td>rationalism</td>\n",
       "      <td>2</td>\n",
       "      <td>4</td>\n",
       "      <td>2.0</td>\n",
       "    </tr>\n",
       "    <tr>\n",
       "      <th>12</th>\n",
       "      <td>stoicism</td>\n",
       "      <td>1</td>\n",
       "      <td>2</td>\n",
       "      <td>2.0</td>\n",
       "    </tr>\n",
       "    <tr>\n",
       "      <th>4</th>\n",
       "      <td>continental</td>\n",
       "      <td>2</td>\n",
       "      <td>3</td>\n",
       "      <td>1.5</td>\n",
       "    </tr>\n",
       "    <tr>\n",
       "      <th>7</th>\n",
       "      <td>german_idealism</td>\n",
       "      <td>2</td>\n",
       "      <td>3</td>\n",
       "      <td>1.5</td>\n",
       "    </tr>\n",
       "    <tr>\n",
       "      <th>9</th>\n",
       "      <td>phenomenology</td>\n",
       "      <td>2</td>\n",
       "      <td>3</td>\n",
       "      <td>1.5</td>\n",
       "    </tr>\n",
       "    <tr>\n",
       "      <th>1</th>\n",
       "      <td>aristotle</td>\n",
       "      <td>1</td>\n",
       "      <td>1</td>\n",
       "      <td>1.0</td>\n",
       "    </tr>\n",
       "    <tr>\n",
       "      <th>3</th>\n",
       "      <td>communism</td>\n",
       "      <td>2</td>\n",
       "      <td>2</td>\n",
       "      <td>1.0</td>\n",
       "    </tr>\n",
       "    <tr>\n",
       "      <th>8</th>\n",
       "      <td>nietzsche</td>\n",
       "      <td>1</td>\n",
       "      <td>1</td>\n",
       "      <td>1.0</td>\n",
       "    </tr>\n",
       "    <tr>\n",
       "      <th>10</th>\n",
       "      <td>plato</td>\n",
       "      <td>1</td>\n",
       "      <td>1</td>\n",
       "      <td>1.0</td>\n",
       "    </tr>\n",
       "  </tbody>\n",
       "</table>\n",
       "</div>"
      ],
      "text/plain": [
       "             school  k_means_label  total_num  purity\n",
       "0          analytic              2          7     3.5\n",
       "2        capitalism              1          3     3.0\n",
       "5        empiricism              1          3     3.0\n",
       "6          feminism              1          3     3.0\n",
       "11      rationalism              2          4     2.0\n",
       "12         stoicism              1          2     2.0\n",
       "4       continental              2          3     1.5\n",
       "7   german_idealism              2          3     1.5\n",
       "9     phenomenology              2          3     1.5\n",
       "1         aristotle              1          1     1.0\n",
       "3         communism              2          2     1.0\n",
       "8         nietzsche              1          1     1.0\n",
       "10            plato              1          1     1.0"
      ]
     },
     "execution_count": 252,
     "metadata": {},
     "output_type": "execute_result"
    }
   ],
   "source": [
    "school_purity['purity'] = school_purity['total_num']/school_purity['k_means_label']\n",
    "school_purity.sort_values(by = \"purity\", ascending = False)"
   ]
  },
  {
   "cell_type": "markdown",
   "id": "c606d85b",
   "metadata": {},
   "source": [
    "From the purity data and number of k-means labels within each school, we could find that \n",
    "* Each school is divided into at most 2 subgroups\n",
    "* Most schools with more than (or equal to) 3 authors are well clustered\n",
    "* Schools for authors categorized into the same cluster generally match the pattern shown in step 2, which means this clustering outputs consistent results compared with previous methods."
   ]
  },
  {
   "cell_type": "markdown",
   "id": "4ef61b64",
   "metadata": {},
   "source": [
    "# Summary"
   ]
  },
  {
   "cell_type": "markdown",
   "id": "0d996537",
   "metadata": {},
   "source": [
    "In conclusion, the three approaches, the visual analysis of attitude heatmap, PCA and k-means clustering by school, and k-means by author, are yielding consistent results, enhancing each other's correctness. We could discover mutual interactions among schools and authors, and with the agreement of general ideas, we could better understanding the relationship between each philosophical schools and better compare their ideas."
   ]
  },
  {
   "cell_type": "markdown",
   "id": "acfd4533",
   "metadata": {},
   "source": [
    "# "
   ]
  }
 ],
 "metadata": {
  "kernelspec": {
   "display_name": "Python 3 (ipykernel)",
   "language": "python",
   "name": "python3"
  },
  "language_info": {
   "codemirror_mode": {
    "name": "ipython",
    "version": 3
   },
   "file_extension": ".py",
   "mimetype": "text/x-python",
   "name": "python",
   "nbconvert_exporter": "python",
   "pygments_lexer": "ipython3",
   "version": "3.9.7"
  }
 },
 "nbformat": 4,
 "nbformat_minor": 5
}
